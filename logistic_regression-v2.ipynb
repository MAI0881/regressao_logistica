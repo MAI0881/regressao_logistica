{
 "cells": [
  {
   "cell_type": "markdown",
   "id": "fb687d5a",
   "metadata": {},
   "source": [
    "A Regressão Logística é um algoritmo de classificação de Aprendizado de Máquina usado para prever a probabilidade de uma variável dependente categórica. Na regressão logística, a variável dependente é uma variável binária que contém dados codificados como 1 (sim, sucesso, etc.) ou 0 (não, falha, etc.). Em outras palavras, o modelo de regressão logística prevê P(Y=1) como uma função de X."
   ]
  },
  {
   "cell_type": "markdown",
   "id": "3ef077fe",
   "metadata": {},
   "source": [
    "\n",
    "## Pressupostos da Regressão Logística:\n",
    "\n",
    "* Regressão Logística Binária requer que a variável dependente seja binária.\n",
    "* Para uma regressão binária, o nível do fator 1 da variável dependente deve representar o resultado desejado.\n",
    "* Apenas as variáveis relevantes devem ser incluídas.\n",
    "* As variáveis independentes devem ser independentes entre si. Ou seja, o modelo deve ter pouca ou nenhuma multicolinearidade.\n",
    "* As variáveis independentes estão linearmente relacionadas com os log-odds. (Os log odds representam o logaritmo natural da razão entre a probabilidade de um evento ocorrer e a probabilidade de não ocorrer. Os log odds são frequentemente usados na regressão logística porque permitem transformar a relação não-linear entre as probabilidades e as variáveis independentes em uma relação linear).\n",
    "* A regressão logística requer tamanhos de amostra bastante grandes."
   ]
  },
  {
   "cell_type": "code",
   "execution_count": 1,
   "id": "1ef5572b",
   "metadata": {},
   "outputs": [],
   "source": [
    "# pandas para trabalhar com dataframes.\n",
    "import pandas as pd\n",
    "\n",
    "# numpy para operações numéricas eficientes e computação matricial.\n",
    "import numpy as np\n",
    "\n",
    "# sklearn.preprocessing para pré-processar os dados antes de alimentá-los em um modelo de aprendizado de máquina.\n",
    "from sklearn import preprocessing\n",
    "\n",
    "# matplotlib.pyplot para criar visualizações gráficas interativas.\n",
    "import matplotlib.pyplot as plt \n",
    "plt.rc(\"font\", size=14)  # Definindo o tamanho padrão da fonte dos gráficos.\n",
    "\n",
    "# Importando a classe LogisticRegression do scikit-learn para realizar uma tarefa de classificação com regressão logística.\n",
    "from sklearn.linear_model import LogisticRegression\n",
    "\n",
    "# Importando a função train_test_split do scikit-learn para dividir os dados em conjuntos de treinamento e teste.\n",
    "from sklearn.model_selection import train_test_split\n",
    "\n",
    "# seaborn para criar gráficos estatísticos visuais.\n",
    "import seaborn as sns\n",
    "sns.set(style=\"white\")  # Definindo o estilo de fundo dos gráficos seaborn como branco.\n",
    "sns.set(style=\"whitegrid\", color_codes=True)  # Definindo o estilo de grade branca para os gráficos seaborn.\n"
   ]
  },
  {
   "cell_type": "code",
   "execution_count": 2,
   "id": "d368c452",
   "metadata": {},
   "outputs": [
    {
     "data": {
      "text/html": [
       "<div>\n",
       "<style scoped>\n",
       "    .dataframe tbody tr th:only-of-type {\n",
       "        vertical-align: middle;\n",
       "    }\n",
       "\n",
       "    .dataframe tbody tr th {\n",
       "        vertical-align: top;\n",
       "    }\n",
       "\n",
       "    .dataframe thead th {\n",
       "        text-align: right;\n",
       "    }\n",
       "</style>\n",
       "<table border=\"1\" class=\"dataframe\">\n",
       "  <thead>\n",
       "    <tr style=\"text-align: right;\">\n",
       "      <th></th>\n",
       "      <th>customerID</th>\n",
       "      <th>gender</th>\n",
       "      <th>SeniorCitizen</th>\n",
       "      <th>Partner</th>\n",
       "      <th>Dependents</th>\n",
       "      <th>tenure</th>\n",
       "      <th>PhoneService</th>\n",
       "      <th>MultipleLines</th>\n",
       "      <th>InternetService</th>\n",
       "      <th>OnlineSecurity</th>\n",
       "      <th>...</th>\n",
       "      <th>DeviceProtection</th>\n",
       "      <th>TechSupport</th>\n",
       "      <th>StreamingTV</th>\n",
       "      <th>StreamingMovies</th>\n",
       "      <th>Contract</th>\n",
       "      <th>PaperlessBilling</th>\n",
       "      <th>PaymentMethod</th>\n",
       "      <th>MonthlyCharges</th>\n",
       "      <th>TotalCharges</th>\n",
       "      <th>Churn</th>\n",
       "    </tr>\n",
       "  </thead>\n",
       "  <tbody>\n",
       "    <tr>\n",
       "      <th>0</th>\n",
       "      <td>7590-VHVEG</td>\n",
       "      <td>Female</td>\n",
       "      <td>0</td>\n",
       "      <td>Yes</td>\n",
       "      <td>No</td>\n",
       "      <td>1</td>\n",
       "      <td>No</td>\n",
       "      <td>No phone service</td>\n",
       "      <td>DSL</td>\n",
       "      <td>No</td>\n",
       "      <td>...</td>\n",
       "      <td>No</td>\n",
       "      <td>No</td>\n",
       "      <td>No</td>\n",
       "      <td>No</td>\n",
       "      <td>Month-to-month</td>\n",
       "      <td>Yes</td>\n",
       "      <td>Electronic check</td>\n",
       "      <td>29.85</td>\n",
       "      <td>29.85</td>\n",
       "      <td>No</td>\n",
       "    </tr>\n",
       "    <tr>\n",
       "      <th>1</th>\n",
       "      <td>5575-GNVDE</td>\n",
       "      <td>Male</td>\n",
       "      <td>0</td>\n",
       "      <td>No</td>\n",
       "      <td>No</td>\n",
       "      <td>34</td>\n",
       "      <td>Yes</td>\n",
       "      <td>No</td>\n",
       "      <td>DSL</td>\n",
       "      <td>Yes</td>\n",
       "      <td>...</td>\n",
       "      <td>Yes</td>\n",
       "      <td>No</td>\n",
       "      <td>No</td>\n",
       "      <td>No</td>\n",
       "      <td>One year</td>\n",
       "      <td>No</td>\n",
       "      <td>Mailed check</td>\n",
       "      <td>56.95</td>\n",
       "      <td>1889.5</td>\n",
       "      <td>No</td>\n",
       "    </tr>\n",
       "    <tr>\n",
       "      <th>2</th>\n",
       "      <td>3668-QPYBK</td>\n",
       "      <td>Male</td>\n",
       "      <td>0</td>\n",
       "      <td>No</td>\n",
       "      <td>No</td>\n",
       "      <td>2</td>\n",
       "      <td>Yes</td>\n",
       "      <td>No</td>\n",
       "      <td>DSL</td>\n",
       "      <td>Yes</td>\n",
       "      <td>...</td>\n",
       "      <td>No</td>\n",
       "      <td>No</td>\n",
       "      <td>No</td>\n",
       "      <td>No</td>\n",
       "      <td>Month-to-month</td>\n",
       "      <td>Yes</td>\n",
       "      <td>Mailed check</td>\n",
       "      <td>53.85</td>\n",
       "      <td>108.15</td>\n",
       "      <td>Yes</td>\n",
       "    </tr>\n",
       "    <tr>\n",
       "      <th>3</th>\n",
       "      <td>7795-CFOCW</td>\n",
       "      <td>Male</td>\n",
       "      <td>0</td>\n",
       "      <td>No</td>\n",
       "      <td>No</td>\n",
       "      <td>45</td>\n",
       "      <td>No</td>\n",
       "      <td>No phone service</td>\n",
       "      <td>DSL</td>\n",
       "      <td>Yes</td>\n",
       "      <td>...</td>\n",
       "      <td>Yes</td>\n",
       "      <td>Yes</td>\n",
       "      <td>No</td>\n",
       "      <td>No</td>\n",
       "      <td>One year</td>\n",
       "      <td>No</td>\n",
       "      <td>Bank transfer (automatic)</td>\n",
       "      <td>42.30</td>\n",
       "      <td>1840.75</td>\n",
       "      <td>No</td>\n",
       "    </tr>\n",
       "    <tr>\n",
       "      <th>4</th>\n",
       "      <td>9237-HQITU</td>\n",
       "      <td>Female</td>\n",
       "      <td>0</td>\n",
       "      <td>No</td>\n",
       "      <td>No</td>\n",
       "      <td>2</td>\n",
       "      <td>Yes</td>\n",
       "      <td>No</td>\n",
       "      <td>Fiber optic</td>\n",
       "      <td>No</td>\n",
       "      <td>...</td>\n",
       "      <td>No</td>\n",
       "      <td>No</td>\n",
       "      <td>No</td>\n",
       "      <td>No</td>\n",
       "      <td>Month-to-month</td>\n",
       "      <td>Yes</td>\n",
       "      <td>Electronic check</td>\n",
       "      <td>70.70</td>\n",
       "      <td>151.65</td>\n",
       "      <td>Yes</td>\n",
       "    </tr>\n",
       "    <tr>\n",
       "      <th>...</th>\n",
       "      <td>...</td>\n",
       "      <td>...</td>\n",
       "      <td>...</td>\n",
       "      <td>...</td>\n",
       "      <td>...</td>\n",
       "      <td>...</td>\n",
       "      <td>...</td>\n",
       "      <td>...</td>\n",
       "      <td>...</td>\n",
       "      <td>...</td>\n",
       "      <td>...</td>\n",
       "      <td>...</td>\n",
       "      <td>...</td>\n",
       "      <td>...</td>\n",
       "      <td>...</td>\n",
       "      <td>...</td>\n",
       "      <td>...</td>\n",
       "      <td>...</td>\n",
       "      <td>...</td>\n",
       "      <td>...</td>\n",
       "      <td>...</td>\n",
       "    </tr>\n",
       "    <tr>\n",
       "      <th>7038</th>\n",
       "      <td>6840-RESVB</td>\n",
       "      <td>Male</td>\n",
       "      <td>0</td>\n",
       "      <td>Yes</td>\n",
       "      <td>Yes</td>\n",
       "      <td>24</td>\n",
       "      <td>Yes</td>\n",
       "      <td>Yes</td>\n",
       "      <td>DSL</td>\n",
       "      <td>Yes</td>\n",
       "      <td>...</td>\n",
       "      <td>Yes</td>\n",
       "      <td>Yes</td>\n",
       "      <td>Yes</td>\n",
       "      <td>Yes</td>\n",
       "      <td>One year</td>\n",
       "      <td>Yes</td>\n",
       "      <td>Mailed check</td>\n",
       "      <td>84.80</td>\n",
       "      <td>1990.5</td>\n",
       "      <td>No</td>\n",
       "    </tr>\n",
       "    <tr>\n",
       "      <th>7039</th>\n",
       "      <td>2234-XADUH</td>\n",
       "      <td>Female</td>\n",
       "      <td>0</td>\n",
       "      <td>Yes</td>\n",
       "      <td>Yes</td>\n",
       "      <td>72</td>\n",
       "      <td>Yes</td>\n",
       "      <td>Yes</td>\n",
       "      <td>Fiber optic</td>\n",
       "      <td>No</td>\n",
       "      <td>...</td>\n",
       "      <td>Yes</td>\n",
       "      <td>No</td>\n",
       "      <td>Yes</td>\n",
       "      <td>Yes</td>\n",
       "      <td>One year</td>\n",
       "      <td>Yes</td>\n",
       "      <td>Credit card (automatic)</td>\n",
       "      <td>103.20</td>\n",
       "      <td>7362.9</td>\n",
       "      <td>No</td>\n",
       "    </tr>\n",
       "    <tr>\n",
       "      <th>7040</th>\n",
       "      <td>4801-JZAZL</td>\n",
       "      <td>Female</td>\n",
       "      <td>0</td>\n",
       "      <td>Yes</td>\n",
       "      <td>Yes</td>\n",
       "      <td>11</td>\n",
       "      <td>No</td>\n",
       "      <td>No phone service</td>\n",
       "      <td>DSL</td>\n",
       "      <td>Yes</td>\n",
       "      <td>...</td>\n",
       "      <td>No</td>\n",
       "      <td>No</td>\n",
       "      <td>No</td>\n",
       "      <td>No</td>\n",
       "      <td>Month-to-month</td>\n",
       "      <td>Yes</td>\n",
       "      <td>Electronic check</td>\n",
       "      <td>29.60</td>\n",
       "      <td>346.45</td>\n",
       "      <td>No</td>\n",
       "    </tr>\n",
       "    <tr>\n",
       "      <th>7041</th>\n",
       "      <td>8361-LTMKD</td>\n",
       "      <td>Male</td>\n",
       "      <td>1</td>\n",
       "      <td>Yes</td>\n",
       "      <td>No</td>\n",
       "      <td>4</td>\n",
       "      <td>Yes</td>\n",
       "      <td>Yes</td>\n",
       "      <td>Fiber optic</td>\n",
       "      <td>No</td>\n",
       "      <td>...</td>\n",
       "      <td>No</td>\n",
       "      <td>No</td>\n",
       "      <td>No</td>\n",
       "      <td>No</td>\n",
       "      <td>Month-to-month</td>\n",
       "      <td>Yes</td>\n",
       "      <td>Mailed check</td>\n",
       "      <td>74.40</td>\n",
       "      <td>306.6</td>\n",
       "      <td>Yes</td>\n",
       "    </tr>\n",
       "    <tr>\n",
       "      <th>7042</th>\n",
       "      <td>3186-AJIEK</td>\n",
       "      <td>Male</td>\n",
       "      <td>0</td>\n",
       "      <td>No</td>\n",
       "      <td>No</td>\n",
       "      <td>66</td>\n",
       "      <td>Yes</td>\n",
       "      <td>No</td>\n",
       "      <td>Fiber optic</td>\n",
       "      <td>Yes</td>\n",
       "      <td>...</td>\n",
       "      <td>Yes</td>\n",
       "      <td>Yes</td>\n",
       "      <td>Yes</td>\n",
       "      <td>Yes</td>\n",
       "      <td>Two year</td>\n",
       "      <td>Yes</td>\n",
       "      <td>Bank transfer (automatic)</td>\n",
       "      <td>105.65</td>\n",
       "      <td>6844.5</td>\n",
       "      <td>No</td>\n",
       "    </tr>\n",
       "  </tbody>\n",
       "</table>\n",
       "<p>7043 rows × 21 columns</p>\n",
       "</div>"
      ],
      "text/plain": [
       "      customerID  gender  SeniorCitizen Partner Dependents  tenure  \\\n",
       "0     7590-VHVEG  Female              0     Yes         No       1   \n",
       "1     5575-GNVDE    Male              0      No         No      34   \n",
       "2     3668-QPYBK    Male              0      No         No       2   \n",
       "3     7795-CFOCW    Male              0      No         No      45   \n",
       "4     9237-HQITU  Female              0      No         No       2   \n",
       "...          ...     ...            ...     ...        ...     ...   \n",
       "7038  6840-RESVB    Male              0     Yes        Yes      24   \n",
       "7039  2234-XADUH  Female              0     Yes        Yes      72   \n",
       "7040  4801-JZAZL  Female              0     Yes        Yes      11   \n",
       "7041  8361-LTMKD    Male              1     Yes         No       4   \n",
       "7042  3186-AJIEK    Male              0      No         No      66   \n",
       "\n",
       "     PhoneService     MultipleLines InternetService OnlineSecurity  ...  \\\n",
       "0              No  No phone service             DSL             No  ...   \n",
       "1             Yes                No             DSL            Yes  ...   \n",
       "2             Yes                No             DSL            Yes  ...   \n",
       "3              No  No phone service             DSL            Yes  ...   \n",
       "4             Yes                No     Fiber optic             No  ...   \n",
       "...           ...               ...             ...            ...  ...   \n",
       "7038          Yes               Yes             DSL            Yes  ...   \n",
       "7039          Yes               Yes     Fiber optic             No  ...   \n",
       "7040           No  No phone service             DSL            Yes  ...   \n",
       "7041          Yes               Yes     Fiber optic             No  ...   \n",
       "7042          Yes                No     Fiber optic            Yes  ...   \n",
       "\n",
       "     DeviceProtection TechSupport StreamingTV StreamingMovies        Contract  \\\n",
       "0                  No          No          No              No  Month-to-month   \n",
       "1                 Yes          No          No              No        One year   \n",
       "2                  No          No          No              No  Month-to-month   \n",
       "3                 Yes         Yes          No              No        One year   \n",
       "4                  No          No          No              No  Month-to-month   \n",
       "...               ...         ...         ...             ...             ...   \n",
       "7038              Yes         Yes         Yes             Yes        One year   \n",
       "7039              Yes          No         Yes             Yes        One year   \n",
       "7040               No          No          No              No  Month-to-month   \n",
       "7041               No          No          No              No  Month-to-month   \n",
       "7042              Yes         Yes         Yes             Yes        Two year   \n",
       "\n",
       "     PaperlessBilling              PaymentMethod MonthlyCharges  TotalCharges  \\\n",
       "0                 Yes           Electronic check          29.85         29.85   \n",
       "1                  No               Mailed check          56.95        1889.5   \n",
       "2                 Yes               Mailed check          53.85        108.15   \n",
       "3                  No  Bank transfer (automatic)          42.30       1840.75   \n",
       "4                 Yes           Electronic check          70.70        151.65   \n",
       "...               ...                        ...            ...           ...   \n",
       "7038              Yes               Mailed check          84.80        1990.5   \n",
       "7039              Yes    Credit card (automatic)         103.20        7362.9   \n",
       "7040              Yes           Electronic check          29.60        346.45   \n",
       "7041              Yes               Mailed check          74.40         306.6   \n",
       "7042              Yes  Bank transfer (automatic)         105.65        6844.5   \n",
       "\n",
       "     Churn  \n",
       "0       No  \n",
       "1       No  \n",
       "2      Yes  \n",
       "3       No  \n",
       "4      Yes  \n",
       "...    ...  \n",
       "7038    No  \n",
       "7039    No  \n",
       "7040    No  \n",
       "7041   Yes  \n",
       "7042    No  \n",
       "\n",
       "[7043 rows x 21 columns]"
      ]
     },
     "execution_count": 2,
     "metadata": {},
     "output_type": "execute_result"
    }
   ],
   "source": [
    "df = pd.read_csv(r'https://raw.githubusercontent.com/MAI0881/datasets/main/telecom_churn.csv', encoding = 'utf-8', sep = ',')\n",
    "df"
   ]
  },
  {
   "cell_type": "markdown",
   "id": "0c6190cb",
   "metadata": {},
   "source": [
    "## Cleansing data"
   ]
  },
  {
   "cell_type": "code",
   "execution_count": 3,
   "id": "77e5a8d1",
   "metadata": {},
   "outputs": [],
   "source": [
    "df.replace(' ', pd.NA, inplace=True)"
   ]
  },
  {
   "cell_type": "code",
   "execution_count": 4,
   "id": "58c58865",
   "metadata": {},
   "outputs": [],
   "source": [
    "nan_counts = df.isnull().sum()\n",
    "rows_with_nan = df[df.isnull().any(axis=1)]\n",
    "#rows_with_nan"
   ]
  },
  {
   "cell_type": "code",
   "execution_count": 5,
   "id": "0d9bcecf",
   "metadata": {},
   "outputs": [],
   "source": [
    "df.dropna(inplace=True)"
   ]
  },
  {
   "cell_type": "code",
   "execution_count": 6,
   "id": "b271d95f",
   "metadata": {},
   "outputs": [],
   "source": [
    "df = df.drop(['customerID'], axis = 1)"
   ]
  },
  {
   "cell_type": "code",
   "execution_count": 7,
   "id": "7a8f4009",
   "metadata": {},
   "outputs": [
    {
     "data": {
      "text/plain": [
       "gender                 2\n",
       "SeniorCitizen          2\n",
       "Partner                2\n",
       "Dependents             2\n",
       "tenure                72\n",
       "PhoneService           2\n",
       "MultipleLines          3\n",
       "InternetService        3\n",
       "OnlineSecurity         3\n",
       "OnlineBackup           3\n",
       "DeviceProtection       3\n",
       "TechSupport            3\n",
       "StreamingTV            3\n",
       "StreamingMovies        3\n",
       "Contract               3\n",
       "PaperlessBilling       2\n",
       "PaymentMethod          4\n",
       "MonthlyCharges      1584\n",
       "TotalCharges        6530\n",
       "Churn                  2\n",
       "dtype: int64"
      ]
     },
     "execution_count": 7,
     "metadata": {},
     "output_type": "execute_result"
    }
   ],
   "source": [
    "df.nunique()"
   ]
  },
  {
   "cell_type": "code",
   "execution_count": 8,
   "id": "99482a09",
   "metadata": {},
   "outputs": [],
   "source": [
    "df['Churn'] = df['Churn'].replace({'Yes': 1, 'No': 0}) # mudando para variável binária numérica para usar como variável dependente"
   ]
  },
  {
   "cell_type": "code",
   "execution_count": 9,
   "id": "a361b113",
   "metadata": {},
   "outputs": [],
   "source": [
    "df['SeniorCitizen'] = df['SeniorCitizen'].replace({1: 'Yes', 0: 'No'}) #mudando para variável binária categórica para usar como variável independente"
   ]
  },
  {
   "cell_type": "code",
   "execution_count": null,
   "id": "0c0a049d",
   "metadata": {},
   "outputs": [],
   "source": [
    "df"
   ]
  },
  {
   "cell_type": "markdown",
   "id": "50b1defa",
   "metadata": {},
   "source": [
    "## Data exploration "
   ]
  },
  {
   "cell_type": "code",
   "execution_count": null,
   "id": "c37d425c",
   "metadata": {},
   "outputs": [],
   "source": [
    "import seaborn as sns\n",
    "\n",
    "sns.countplot(x='InternetService', hue='Churn', data=df)\n",
    "plt.show()"
   ]
  },
  {
   "cell_type": "code",
   "execution_count": null,
   "id": "79d31774",
   "metadata": {},
   "outputs": [],
   "source": [
    "df['Churn'].value_counts()"
   ]
  },
  {
   "cell_type": "code",
   "execution_count": null,
   "id": "e0ac23b4",
   "metadata": {},
   "outputs": [],
   "source": [
    "sns.countplot(x='Churn',data=df, palette='hls')\n",
    "plt.show()\n",
    "plt.savefig('count_plot')"
   ]
  },
  {
   "cell_type": "code",
   "execution_count": null,
   "id": "676ea815",
   "metadata": {},
   "outputs": [],
   "source": [
    "count_no_churn = len(df[df['Churn']==0])\n",
    "count_churn = len(df[df['Churn']==1])\n",
    "pct_of_no_churn = count_no_churn/(count_no_churn+count_churn)\n",
    "print(\"percentage of no churn is\", pct_of_no_churn*100)\n",
    "pct_of_churn = count_churn/(count_no_churn+count_churn)\n",
    "print(\"percentage of churn\", pct_of_churn*100)"
   ]
  },
  {
   "cell_type": "code",
   "execution_count": null,
   "id": "953051c0",
   "metadata": {},
   "outputs": [],
   "source": [
    "df.groupby('Dependents')[['tenure','MonthlyCharges','TotalCharges']].mean()"
   ]
  },
  {
   "cell_type": "code",
   "execution_count": null,
   "id": "b472db8a",
   "metadata": {},
   "outputs": [],
   "source": [
    "df['TotalCharges'] = df['TotalCharges'].replace(' ', np.nan)\n",
    "\n",
    "df['TotalCharges'] = df['TotalCharges'].astype(float)"
   ]
  },
  {
   "cell_type": "code",
   "execution_count": null,
   "id": "29737534",
   "metadata": {},
   "outputs": [],
   "source": [
    "df.groupby('MultipleLines')[['tenure','MonthlyCharges','TotalCharges']].mean()"
   ]
  },
  {
   "cell_type": "code",
   "execution_count": null,
   "id": "a650b138",
   "metadata": {},
   "outputs": [],
   "source": [
    "df.groupby('InternetService')[['tenure','MonthlyCharges','TotalCharges']].mean()"
   ]
  },
  {
   "cell_type": "code",
   "execution_count": null,
   "id": "245472a7",
   "metadata": {},
   "outputs": [],
   "source": [
    "df.groupby('TechSupport')[['tenure','MonthlyCharges','TotalCharges']].mean()"
   ]
  },
  {
   "cell_type": "code",
   "execution_count": null,
   "id": "dab50f4b",
   "metadata": {},
   "outputs": [],
   "source": [
    "df.groupby('PaymentMethod')[['tenure','MonthlyCharges','TotalCharges']].mean()"
   ]
  },
  {
   "cell_type": "code",
   "execution_count": null,
   "id": "47bf628b",
   "metadata": {},
   "outputs": [],
   "source": [
    "table=pd.crosstab(df.Dependents,df.Churn)\n",
    "table.div(table.sum(1).astype(float), axis=0).plot(kind='bar', stacked=True)\n",
    "plt.title('Churn Frequency for Dependents')\n",
    "plt.xlabel('Dependents')\n",
    "plt.ylabel('Frequency of Churn')\n",
    "plt.savefig('churn_frequency_per_Dependents')"
   ]
  },
  {
   "cell_type": "code",
   "execution_count": null,
   "id": "50fa7ca7",
   "metadata": {},
   "outputs": [],
   "source": [
    "table=pd.crosstab(df.Partner,df.Churn)\n",
    "table.div(table.sum(1).astype(float), axis=0).plot(kind='bar', stacked=True)\n",
    "plt.title('Churn Frequency for MultipleLines')\n",
    "plt.xlabel('MultipleLines')\n",
    "plt.ylabel('Frequency of Churn')\n",
    "plt.savefig('churn_frequency_per_MultipleLines')"
   ]
  },
  {
   "cell_type": "markdown",
   "id": "69f1e2e0",
   "metadata": {},
   "source": [
    "The frequency of churn depends a great deal on the internet service. Thus, the internet service can be a good predictor of the outcome variable."
   ]
  },
  {
   "cell_type": "code",
   "execution_count": null,
   "id": "7ed3ebde",
   "metadata": {},
   "outputs": [],
   "source": [
    "pd.crosstab(df.PaymentMethod,df.Churn).plot(kind='bar')\n",
    "plt.title('Churn Frequency for PaymentMethod')\n",
    "plt.xlabel('PaymentMethod')\n",
    "plt.ylabel('Frequency of Churn')\n",
    "plt.savefig('churn_frequency_per_PaymentMethod')"
   ]
  },
  {
   "cell_type": "code",
   "execution_count": null,
   "id": "790ec471",
   "metadata": {},
   "outputs": [],
   "source": [
    "table=pd.crosstab(df.TechSupport,df.Churn)\n",
    "table.div(table.sum(1).astype(float), axis=0).plot(kind='bar', stacked=True)\n",
    "plt.title('Churn Frequency for TechSupport')\n",
    "plt.xlabel('TechSupport')\n",
    "plt.ylabel('Frequency of Churn')\n",
    "plt.savefig('churn_frequency_per_TechSupport')"
   ]
  },
  {
   "cell_type": "code",
   "execution_count": null,
   "id": "de07a8c9",
   "metadata": {},
   "outputs": [],
   "source": [
    "df.dtypes"
   ]
  },
  {
   "cell_type": "code",
   "execution_count": null,
   "id": "cea247fe",
   "metadata": {},
   "outputs": [],
   "source": [
    "df.MonthlyCharges.hist()\n",
    "plt.title('Histogram of MonthlyCharges')\n",
    "plt.xlabel('MonthlyCharges')\n",
    "plt.ylabel('Frequency')\n",
    "plt.savefig('hist_MonthlyCharges')"
   ]
  },
  {
   "cell_type": "code",
   "execution_count": null,
   "id": "efa85357",
   "metadata": {},
   "outputs": [],
   "source": [
    "table=pd.crosstab(df.PhoneService,df.Churn)\n",
    "table.div(table.sum(1).astype(float), axis=0).plot(kind='bar', stacked=True)\n",
    "plt.title('Churn Frequency for PhoneService')\n",
    "plt.xlabel('PhoneService')\n",
    "plt.ylabel('Frequency of Churn')\n",
    "plt.savefig('churn_frequency_per_PhoneService')"
   ]
  },
  {
   "cell_type": "markdown",
   "id": "89102ff6",
   "metadata": {},
   "source": [
    "## Create dummy variables"
   ]
  },
  {
   "cell_type": "code",
   "execution_count": 10,
   "id": "354f8e93",
   "metadata": {},
   "outputs": [],
   "source": [
    "cat_vars=['gender','Partner','Dependents','PhoneService','MultipleLines','InternetService','OnlineSecurity','OnlineBackup','DeviceProtection','TechSupport','StreamingTV','StreamingMovies','Contract','PaperlessBilling','PaymentMethod','SeniorCitizen']\n",
    "# criamos uma lista com as variáveis categóricas do df\n",
    "\n",
    "for var in cat_vars:\n",
    "    cat_list = pd.get_dummies(df[var], prefix=var) # método get_dummies cria variáveis binárias para cada variável categórica  do df\n",
    "    df=df.join(cat_list) #concatena as colunas dummies com o df original\n",
    "data_vars=df.columns.values.tolist() #armazena todas as variáveis e colunas do df\n",
    "to_keep=[i for i in data_vars if i not in cat_vars] #armazena todas as variáveis e nomes das colunas que são numéricas"
   ]
  },
  {
   "cell_type": "code",
   "execution_count": null,
   "id": "fccaf17c",
   "metadata": {},
   "outputs": [],
   "source": []
  },
  {
   "cell_type": "code",
   "execution_count": 11,
   "id": "d36e5b5f",
   "metadata": {},
   "outputs": [
    {
     "data": {
      "text/plain": [
       "array(['tenure', 'MonthlyCharges', 'TotalCharges', 'Churn',\n",
       "       'gender_Female', 'gender_Male', 'Partner_No', 'Partner_Yes',\n",
       "       'Dependents_No', 'Dependents_Yes', 'PhoneService_No',\n",
       "       'PhoneService_Yes', 'MultipleLines_No',\n",
       "       'MultipleLines_No phone service', 'MultipleLines_Yes',\n",
       "       'InternetService_DSL', 'InternetService_Fiber optic',\n",
       "       'InternetService_No', 'OnlineSecurity_No',\n",
       "       'OnlineSecurity_No internet service', 'OnlineSecurity_Yes',\n",
       "       'OnlineBackup_No', 'OnlineBackup_No internet service',\n",
       "       'OnlineBackup_Yes', 'DeviceProtection_No',\n",
       "       'DeviceProtection_No internet service', 'DeviceProtection_Yes',\n",
       "       'TechSupport_No', 'TechSupport_No internet service',\n",
       "       'TechSupport_Yes', 'StreamingTV_No',\n",
       "       'StreamingTV_No internet service', 'StreamingTV_Yes',\n",
       "       'StreamingMovies_No', 'StreamingMovies_No internet service',\n",
       "       'StreamingMovies_Yes', 'Contract_Month-to-month',\n",
       "       'Contract_One year', 'Contract_Two year', 'PaperlessBilling_No',\n",
       "       'PaperlessBilling_Yes', 'PaymentMethod_Bank transfer (automatic)',\n",
       "       'PaymentMethod_Credit card (automatic)',\n",
       "       'PaymentMethod_Electronic check', 'PaymentMethod_Mailed check',\n",
       "       'SeniorCitizen_No', 'SeniorCitizen_Yes'], dtype=object)"
      ]
     },
     "execution_count": 11,
     "metadata": {},
     "output_type": "execute_result"
    }
   ],
   "source": [
    "data_final=df[to_keep] # criando lista que será usada para verificar a relevancia das variaveis para o algoritmo\n",
    "data_final.columns.values"
   ]
  },
  {
   "cell_type": "code",
   "execution_count": null,
   "id": "d5c25aee",
   "metadata": {},
   "outputs": [],
   "source": []
  },
  {
   "cell_type": "markdown",
   "id": "d3545d54",
   "metadata": {},
   "source": [
    "## Over-sampling using SMOTE\n",
    "\n",
    "With our training data created, I’ll up-sample the no-churn using the SMOTE algorithm(Synthetic Minority Oversampling Technique). At a high level, SMOTE:\n",
    "\n",
    "* Works by creating synthetic samples from the minor class (no churn) instead of creating copies.\n",
    "* Randomly choosing one of the k-nearest-neighbors and using it to create a similar, but randomly tweaked, new observations."
   ]
  },
  {
   "cell_type": "code",
   "execution_count": 12,
   "id": "451a120b",
   "metadata": {},
   "outputs": [
    {
     "name": "stdout",
     "output_type": "stream",
     "text": [
      "length of oversampled data is  7216\n",
      "Number of no churn in oversampled data 3608\n",
      "Number of churn 3608\n",
      "Proportion of no churn data in oversampled data is  0.5\n",
      "Proportion of churn data in oversampled data is  0.5\n"
     ]
    },
    {
     "name": "stderr",
     "output_type": "stream",
     "text": [
      "C:\\Users\\Maiara\\AppData\\Local\\Packages\\PythonSoftwareFoundation.Python.3.11_qbz5n2kfra8p0\\LocalCache\\local-packages\\Python311\\site-packages\\joblib\\externals\\loky\\backend\\context.py:136: UserWarning: Could not find the number of physical cores for the following reason:\n",
      "found 0 physical cores < 1\n",
      "Returning the number of logical cores instead. You can silence this warning by setting LOKY_MAX_CPU_COUNT to the number of cores you want to use.\n",
      "  warnings.warn(\n",
      "  File \"C:\\Users\\Maiara\\AppData\\Local\\Packages\\PythonSoftwareFoundation.Python.3.11_qbz5n2kfra8p0\\LocalCache\\local-packages\\Python311\\site-packages\\joblib\\externals\\loky\\backend\\context.py\", line 282, in _count_physical_cores\n",
      "    raise ValueError(f\"found {cpu_count_physical} physical cores < 1\")\n"
     ]
    }
   ],
   "source": [
    "X = data_final.loc[:, data_final.columns != 'Churn'] # declara as variáveis independentes x\n",
    "y = data_final.loc[:, data_final.columns == 'Churn'] # declara a variável dependente y (Churn)\n",
    "\n",
    "from imblearn.over_sampling import SMOTE # importa a classe SMOTE responsável pelo balanceamento de datasets\n",
    "\n",
    "os = SMOTE(random_state=0) # cria uma instância da classe SMOTE com um valor aleatório\n",
    "X_train, X_test, y_train, y_test = train_test_split(X, y, test_size=0.3, random_state=0) # divide o dataset em treino e teste usado a divisão fixa (70% treino e 30% teste)\n",
    "columns = X_train.columns # armazena os nomes das colunas das características do conjunto de treinamento (X_train)..\n",
    "os_data_X,os_data_y=os.fit_resample(X_train, y_train) # aplica o SMOTE nos dados de treino para fazer o oversampling da classe minoritária balanceando o algoritmo\n",
    "os_data_X = pd.DataFrame(data=os_data_X,columns=columns ) # converte as variaveis sinteticas em df usando os nomes originais das colunas armazenados na variável \"columns\".\n",
    "os_data_y= pd.DataFrame(data=os_data_y,columns=['Churn']) # converte a variável alvo sintetica em um df\n",
    "\n",
    "# Verificando os resultados do oversampling\n",
    "print(\"length of oversampled data is \",len(os_data_X))\n",
    "print(\"Number of no churn in oversampled data\",len(os_data_y[os_data_y['Churn']==0]))\n",
    "print(\"Number of churn\",len(os_data_y[os_data_y['Churn']==1]))\n",
    "print(\"Proportion of no churn data in oversampled data is \",len(os_data_y[os_data_y['Churn']==0])/len(os_data_X))\n",
    "print(\"Proportion of churn data in oversampled data is \",len(os_data_y[os_data_y['Churn']==1])/len(os_data_X))"
   ]
  },
  {
   "cell_type": "code",
   "execution_count": null,
   "id": "7989abe9",
   "metadata": {},
   "outputs": [],
   "source": [
    "columns"
   ]
  },
  {
   "cell_type": "markdown",
   "id": "72298f5c",
   "metadata": {},
   "source": [
    "## Recursive Feature Elimination"
   ]
  },
  {
   "cell_type": "code",
   "execution_count": 13,
   "id": "c4e72949",
   "metadata": {},
   "outputs": [
    {
     "name": "stdout",
     "output_type": "stream",
     "text": [
      "[False False False  True  True  True  True  True  True False  True  True\n",
      " False  True  True  True False  True False  True  True False  True  True\n",
      " False  True  True False False False False False False False False  True\n",
      "  True  True False  True False False  True False False False]\n",
      "[2 3 3 1 1 1 1 1 1 3 1 1 3 1 1 1 3 1 3 1 1 3 1 1 3 1 1 3 2 3 3 2 2 3 2 1 1\n",
      " 1 3 1 2 2 1 3 3 2]\n"
     ]
    },
    {
     "name": "stderr",
     "output_type": "stream",
     "text": [
      "C:\\Users\\Maiara\\AppData\\Local\\Packages\\PythonSoftwareFoundation.Python.3.11_qbz5n2kfra8p0\\LocalCache\\local-packages\\Python311\\site-packages\\sklearn\\linear_model\\_logistic.py:460: ConvergenceWarning: lbfgs failed to converge (status=1):\n",
      "STOP: TOTAL NO. of ITERATIONS REACHED LIMIT.\n",
      "\n",
      "Increase the number of iterations (max_iter) or scale the data as shown in:\n",
      "    https://scikit-learn.org/stable/modules/preprocessing.html\n",
      "Please also refer to the documentation for alternative solver options:\n",
      "    https://scikit-learn.org/stable/modules/linear_model.html#logistic-regression\n",
      "  n_iter_i = _check_optimize_result(\n",
      "C:\\Users\\Maiara\\AppData\\Local\\Packages\\PythonSoftwareFoundation.Python.3.11_qbz5n2kfra8p0\\LocalCache\\local-packages\\Python311\\site-packages\\sklearn\\linear_model\\_logistic.py:460: ConvergenceWarning: lbfgs failed to converge (status=1):\n",
      "STOP: TOTAL NO. of ITERATIONS REACHED LIMIT.\n",
      "\n",
      "Increase the number of iterations (max_iter) or scale the data as shown in:\n",
      "    https://scikit-learn.org/stable/modules/preprocessing.html\n",
      "Please also refer to the documentation for alternative solver options:\n",
      "    https://scikit-learn.org/stable/modules/linear_model.html#logistic-regression\n",
      "  n_iter_i = _check_optimize_result(\n"
     ]
    }
   ],
   "source": [
    "data_final_vars=data_final.columns.values.tolist() # obtém uma lista com os nomes das colunas presentes no df data_final.\n",
    "y=['Churn'] #Aqui, a variável Churn é definida como uma lista para ser prevista pelo modelo\n",
    "X=[i for i in data_final_vars if i not in y] # cria a lista X que conterá todos os atributos que serão usados como entrada para o modelo\n",
    "\n",
    "from sklearn.feature_selection import RFE # classe RFE (Recursive Feature Elimination) que visa eliminar as características menos importantes ou irrelevantes para melhorar o desempenho do modelo.\n",
    "from sklearn.linear_model import LogisticRegression # classe LogisticRegression que será usada como o modelo de regressão logística para a seleção de atributos.\n",
    "\n",
    "logreg = LogisticRegression() # Cria uma instância do modelo de Regressão Logística.\n",
    "rfe = RFE(logreg, step = 15) # Cria um objeto RFE e especifica que desejamos selecionar 5 atributos menos importantes para a remoção em cada interação\n",
    "rfe = rfe.fit(os_data_X, os_data_y.values.ravel()) # Aqui, o objeto RFE é ajustado aos dados. os_data_X representa as features do conjunto de treinamento após a aplicação da técnica SMOTE e os_data_y é o respectivo target após o mesmo processo.\n",
    "\n",
    "print(rfe.support_) #Exibe um array booleano que indica quais atributos foram selecionados pelo RFE. O valor True em uma determinada posição do array significa que o atributo correspondente foi selecionado.\n",
    "print(rfe.ranking_) #Exibe o ranking dos atributos. Aqueles com ranking 1 são considerados os mais importantes, e aqueles com valores mais altos são considerados menos importantes."
   ]
  },
  {
   "cell_type": "code",
   "execution_count": 14,
   "id": "a2ccfe08",
   "metadata": {},
   "outputs": [],
   "source": [
    "rfe_ranking = rfe.ranking_ #armazenando as posições do rank"
   ]
  },
  {
   "cell_type": "code",
   "execution_count": 15,
   "id": "e59c8541",
   "metadata": {},
   "outputs": [
    {
     "name": "stdout",
     "output_type": "stream",
     "text": [
      "['gender_Female', 'gender_Male', 'Partner_No', 'Partner_Yes', 'Dependents_No', 'Dependents_Yes', 'PhoneService_Yes', 'MultipleLines_No', 'MultipleLines_Yes', 'InternetService_DSL', 'InternetService_Fiber optic', 'OnlineSecurity_No', 'OnlineSecurity_Yes', 'OnlineBackup_No', 'OnlineBackup_Yes', 'DeviceProtection_No', 'DeviceProtection_Yes', 'TechSupport_No', 'Contract_Month-to-month', 'Contract_One year', 'Contract_Two year', 'PaperlessBilling_Yes', 'PaymentMethod_Electronic check']\n"
     ]
    }
   ],
   "source": [
    "selected_features = []\n",
    "\n",
    "for i, rank in enumerate(rfe_ranking):\n",
    "    if rank == 1:  # Verificar se o valor em rfe.ranking_ é igual a 1\n",
    "        selected_features.append(columns[i])  # Se sim, adicionar o valor correspondente em \"column\"s à lista selected_features\n",
    "\n",
    "print(selected_features)"
   ]
  },
  {
   "cell_type": "markdown",
   "id": "4d3b0a86",
   "metadata": {},
   "source": [
    "## Implementing the model"
   ]
  },
  {
   "cell_type": "code",
   "execution_count": 16,
   "id": "753e2126",
   "metadata": {},
   "outputs": [],
   "source": [
    "cols = selected_features # seleciona apenas as variáveis relevantes\n",
    "X=os_data_X[cols] # x recebe apenas as variáveis relevantes\n",
    "y=os_data_y['Churn'] # y recebe a variável alvo"
   ]
  },
  {
   "cell_type": "code",
   "execution_count": null,
   "id": "6b136b6d",
   "metadata": {},
   "outputs": [],
   "source": [
    "X"
   ]
  },
  {
   "cell_type": "markdown",
   "id": "a0e31d1b",
   "metadata": {},
   "source": [
    "## Implementing the model"
   ]
  },
  {
   "cell_type": "code",
   "execution_count": 17,
   "id": "7e149a3d",
   "metadata": {},
   "outputs": [
    {
     "name": "stdout",
     "output_type": "stream",
     "text": [
      "Warning: Maximum number of iterations has been exceeded.\n",
      "         Current function value: 0.428583\n",
      "         Iterations: 35\n",
      "                                     Results: Logit\n",
      "========================================================================================\n",
      "Model:                      Logit                    Method:                   MLE      \n",
      "Dependent Variable:         Churn                    Pseudo R-squared:         0.382    \n",
      "Date:                       2023-07-23 18:03         AIC:                      6231.3093\n",
      "No. Observations:           7216                     BIC:                      6389.6426\n",
      "Df Model:                   22                       Log-Likelihood:           -3092.7  \n",
      "Df Residuals:               7193                     LL-Null:                  -5001.8  \n",
      "Converged:                  0.0000                   LLR p-value:              0.0000   \n",
      "No. Iterations:             35.0000                  Scale:                    1.0000   \n",
      "----------------------------------------------------------------------------------------\n",
      "                                Coef.    Std.Err.    z     P>|z|     [0.025     0.975]  \n",
      "----------------------------------------------------------------------------------------\n",
      "gender_Female                    0.7592    0.1381   5.4970 0.0000      0.4885     1.0299\n",
      "gender_Male                      0.8095    0.1393   5.8106 0.0000      0.5365     1.0826\n",
      "Partner_No                       0.9896    0.1567   6.3162 0.0000      0.6825     1.2967\n",
      "Partner_Yes                      0.7339    0.1534   4.7829 0.0000      0.4331     1.0346\n",
      "Dependents_No                   -0.2025    0.1669  -1.2134 0.2250     -0.5297     0.1246\n",
      "Dependents_Yes                  -0.2290    0.1525  -1.5013 0.1333     -0.5279     0.0700\n",
      "PhoneService_Yes               -25.3148 6130.4877  -0.0041 0.9967 -12040.8498 11990.2202\n",
      "MultipleLines_No                23.7410 6130.4877   0.0039 0.9969 -11991.7940 12039.2760\n",
      "MultipleLines_Yes               23.6793 6130.4877   0.0039 0.9969 -11991.8557 12039.2143\n",
      "InternetService_DSL             -3.1253    0.2063 -15.1482 0.0000     -3.5297    -2.7209\n",
      "InternetService_Fiber optic     -2.0416    0.2136  -9.5594 0.0000     -2.4601    -1.6230\n",
      "OnlineSecurity_No                1.2762    0.1879   6.7905 0.0000      0.9079     1.6446\n",
      "OnlineSecurity_Yes               0.8171    0.1780   4.5913 0.0000      0.4683     1.1659\n",
      "OnlineBackup_No                  1.2366    0.1761   7.0235 0.0000      0.8915     1.5816\n",
      "OnlineBackup_Yes                 0.8014    0.1727   4.6399 0.0000      0.4629     1.1399\n",
      "DeviceProtection_No              0.5123    0.1775   2.8866 0.0039      0.1645     0.8602\n",
      "DeviceProtection_Yes             0.4397    0.1718   2.5593 0.0105      0.1030     0.7764\n",
      "TechSupport_No                   0.3510    0.0857   4.0960 0.0000      0.1830     0.5190\n",
      "Contract_Month-to-month         -0.8509    0.1855  -4.5876 0.0000     -1.2144    -0.4874\n",
      "Contract_One year               -1.7709    0.1783  -9.9340 0.0000     -2.1202    -1.4215\n",
      "Contract_Two year               -2.7378    0.1991 -13.7525 0.0000     -3.1280    -2.3476\n",
      "PaperlessBilling_Yes             0.3612    0.0738   4.8938 0.0000      0.2165     0.5059\n",
      "PaymentMethod_Electronic check   0.7445    0.0691  10.7758 0.0000      0.6091     0.8799\n",
      "========================================================================================\n",
      "\n"
     ]
    },
    {
     "name": "stderr",
     "output_type": "stream",
     "text": [
      "C:\\Users\\Maiara\\AppData\\Local\\Packages\\PythonSoftwareFoundation.Python.3.11_qbz5n2kfra8p0\\LocalCache\\local-packages\\Python311\\site-packages\\statsmodels\\base\\model.py:607: ConvergenceWarning: Maximum Likelihood optimization failed to converge. Check mle_retvals\n",
      "  warnings.warn(\"Maximum Likelihood optimization failed to \"\n"
     ]
    }
   ],
   "source": [
    "import statsmodels.api as sm # statsmodels é uma lib que fornece várias funções e classes para realizar análises estatísticas e ajuste de modelos.\n",
    "logit_model=sm.Logit(y,X) # criando um objeto logit_model que representa o modelo de regressão logística. O primeiro argumento y é o vetor que contém a variável resposta (variável dependente) do modelo, e o segundo argumento X é a matriz (ou DataFrame) que contém as variáveis preditoras (variáveis independentes). O modelo logit é usado para modelar a relação entre a variável resposta binária e as variáveis preditoras.\n",
    "result=logit_model.fit() # ajustando o modelo logit aos dados fornecidos. O método fit() realiza a estimação dos parâmetros do modelo usando os dados de entrada X e y. Ele encontra os coeficientes que melhor se ajustam aos dados para descrever a relação entre a variável resposta binária e as variáveis preditoras.\n",
    "print(result.summary2()) # O método summary2() gera uma tabela com várias informações úteis sobre o modelo, incluindo os coeficientes estimados, seus erros padrão, estatísticas de teste (como o valor Z), valores p, intervalos de confiança para os coeficientes e outras métricas relevantes. "
   ]
  },
  {
   "cell_type": "code",
   "execution_count": 18,
   "id": "f7eb1f04",
   "metadata": {},
   "outputs": [
    {
     "name": "stdout",
     "output_type": "stream",
     "text": [
      "Optimization terminated successfully.\n",
      "         Current function value: 0.473449\n",
      "         Iterations 7\n",
      "                                Results: Logit\n",
      "===============================================================================\n",
      "Model:                   Logit                 Method:                MLE      \n",
      "Dependent Variable:      Churn                 Pseudo R-squared:      0.317    \n",
      "Date:                    2023-07-23 18:04      AIC:                   6872.8183\n",
      "No. Observations:        7216                  BIC:                   7010.4995\n",
      "Df Model:                19                    Log-Likelihood:        -3416.4  \n",
      "Df Residuals:            7196                  LL-Null:               -5001.8  \n",
      "Converged:               1.0000                LLR p-value:           0.0000   \n",
      "No. Iterations:          7.0000                Scale:                 1.0000   \n",
      "-------------------------------------------------------------------------------\n",
      "                                Coef.  Std.Err.    z     P>|z|   [0.025  0.975]\n",
      "-------------------------------------------------------------------------------\n",
      "gender_Female                   0.6535   0.1190   5.4920 0.0000  0.4203  0.8868\n",
      "gender_Male                     0.7078   0.1199   5.9031 0.0000  0.4728  0.9428\n",
      "Partner_No                      0.7264   0.1326   5.4790 0.0000  0.4666  0.9863\n",
      "Partner_Yes                     0.4821   0.1296   3.7195 0.0002  0.2281  0.7361\n",
      "Dependents_No                  -0.7239   0.1422  -5.0916 0.0000 -1.0025 -0.4452\n",
      "Dependents_Yes                 -0.6324   0.1266  -4.9935 0.0000 -0.8806 -0.3842\n",
      "InternetService_DSL            -2.7701   0.1651 -16.7761 0.0000 -3.0938 -2.4465\n",
      "InternetService_Fiber optic    -2.1221   0.1724 -12.3115 0.0000 -2.4599 -1.7843\n",
      "OnlineSecurity_No               1.3560   0.1581   8.5791 0.0000  1.0462  1.6658\n",
      "OnlineSecurity_Yes              0.8724   0.1462   5.9654 0.0000  0.5858  1.1591\n",
      "OnlineBackup_No                 1.1424   0.1456   7.8470 0.0000  0.8571  1.4278\n",
      "OnlineBackup_Yes                0.7108   0.1402   5.0692 0.0000  0.4360  0.9857\n",
      "DeviceProtection_No             0.5886   0.1465   4.0169 0.0001  0.3014  0.8758\n",
      "DeviceProtection_Yes            0.5727   0.1398   4.0955 0.0000  0.2986  0.8467\n",
      "TechSupport_No                  0.3765   0.0815   4.6226 0.0000  0.2169  0.5362\n",
      "Contract_Month-to-month        -1.4069   0.1510  -9.3162 0.0000 -1.7029 -1.1109\n",
      "Contract_One year              -2.2034   0.1442 -15.2815 0.0000 -2.4860 -1.9208\n",
      "Contract_Two year              -3.2276   0.1653 -19.5275 0.0000 -3.5516 -2.9037\n",
      "PaperlessBilling_Yes            0.3080   0.0706   4.3609 0.0000  0.1696  0.4464\n",
      "PaymentMethod_Electronic check  0.8668   0.0663  13.0804 0.0000  0.7369  0.9967\n",
      "===============================================================================\n",
      "\n"
     ]
    }
   ],
   "source": [
    "cols = [col for col, selected in zip(cols, selected_features) if selected and col not in [\"PhoneService_Yes\", \"MultipleLines_No\",\"MultipleLines_Yes\"]]\n",
    "#retirando as variaveis com p-value > 0.5\n",
    "X=os_data_X[cols]\n",
    "y=os_data_y['Churn']\n",
    "logit_model=sm.Logit(y,X)\n",
    "result=logit_model.fit()\n",
    "print(result.summary2())"
   ]
  },
  {
   "cell_type": "markdown",
   "id": "f79ed685",
   "metadata": {},
   "source": [
    "## Logistic Regression Model Fitting"
   ]
  },
  {
   "cell_type": "code",
   "execution_count": 21,
   "id": "1b808ece",
   "metadata": {},
   "outputs": [
    {
     "data": {
      "text/html": [
       "<style>#sk-container-id-2 {color: black;}#sk-container-id-2 pre{padding: 0;}#sk-container-id-2 div.sk-toggleable {background-color: white;}#sk-container-id-2 label.sk-toggleable__label {cursor: pointer;display: block;width: 100%;margin-bottom: 0;padding: 0.3em;box-sizing: border-box;text-align: center;}#sk-container-id-2 label.sk-toggleable__label-arrow:before {content: \"▸\";float: left;margin-right: 0.25em;color: #696969;}#sk-container-id-2 label.sk-toggleable__label-arrow:hover:before {color: black;}#sk-container-id-2 div.sk-estimator:hover label.sk-toggleable__label-arrow:before {color: black;}#sk-container-id-2 div.sk-toggleable__content {max-height: 0;max-width: 0;overflow: hidden;text-align: left;background-color: #f0f8ff;}#sk-container-id-2 div.sk-toggleable__content pre {margin: 0.2em;color: black;border-radius: 0.25em;background-color: #f0f8ff;}#sk-container-id-2 input.sk-toggleable__control:checked~div.sk-toggleable__content {max-height: 200px;max-width: 100%;overflow: auto;}#sk-container-id-2 input.sk-toggleable__control:checked~label.sk-toggleable__label-arrow:before {content: \"▾\";}#sk-container-id-2 div.sk-estimator input.sk-toggleable__control:checked~label.sk-toggleable__label {background-color: #d4ebff;}#sk-container-id-2 div.sk-label input.sk-toggleable__control:checked~label.sk-toggleable__label {background-color: #d4ebff;}#sk-container-id-2 input.sk-hidden--visually {border: 0;clip: rect(1px 1px 1px 1px);clip: rect(1px, 1px, 1px, 1px);height: 1px;margin: -1px;overflow: hidden;padding: 0;position: absolute;width: 1px;}#sk-container-id-2 div.sk-estimator {font-family: monospace;background-color: #f0f8ff;border: 1px dotted black;border-radius: 0.25em;box-sizing: border-box;margin-bottom: 0.5em;}#sk-container-id-2 div.sk-estimator:hover {background-color: #d4ebff;}#sk-container-id-2 div.sk-parallel-item::after {content: \"\";width: 100%;border-bottom: 1px solid gray;flex-grow: 1;}#sk-container-id-2 div.sk-label:hover label.sk-toggleable__label {background-color: #d4ebff;}#sk-container-id-2 div.sk-serial::before {content: \"\";position: absolute;border-left: 1px solid gray;box-sizing: border-box;top: 0;bottom: 0;left: 50%;z-index: 0;}#sk-container-id-2 div.sk-serial {display: flex;flex-direction: column;align-items: center;background-color: white;padding-right: 0.2em;padding-left: 0.2em;position: relative;}#sk-container-id-2 div.sk-item {position: relative;z-index: 1;}#sk-container-id-2 div.sk-parallel {display: flex;align-items: stretch;justify-content: center;background-color: white;position: relative;}#sk-container-id-2 div.sk-item::before, #sk-container-id-2 div.sk-parallel-item::before {content: \"\";position: absolute;border-left: 1px solid gray;box-sizing: border-box;top: 0;bottom: 0;left: 50%;z-index: -1;}#sk-container-id-2 div.sk-parallel-item {display: flex;flex-direction: column;z-index: 1;position: relative;background-color: white;}#sk-container-id-2 div.sk-parallel-item:first-child::after {align-self: flex-end;width: 50%;}#sk-container-id-2 div.sk-parallel-item:last-child::after {align-self: flex-start;width: 50%;}#sk-container-id-2 div.sk-parallel-item:only-child::after {width: 0;}#sk-container-id-2 div.sk-dashed-wrapped {border: 1px dashed gray;margin: 0 0.4em 0.5em 0.4em;box-sizing: border-box;padding-bottom: 0.4em;background-color: white;}#sk-container-id-2 div.sk-label label {font-family: monospace;font-weight: bold;display: inline-block;line-height: 1.2em;}#sk-container-id-2 div.sk-label-container {text-align: center;}#sk-container-id-2 div.sk-container {/* jupyter's `normalize.less` sets `[hidden] { display: none; }` but bootstrap.min.css set `[hidden] { display: none !important; }` so we also need the `!important` here to be able to override the default hidden behavior on the sphinx rendered scikit-learn.org. See: https://github.com/scikit-learn/scikit-learn/issues/21755 */display: inline-block !important;position: relative;}#sk-container-id-2 div.sk-text-repr-fallback {display: none;}</style><div id=\"sk-container-id-2\" class=\"sk-top-container\"><div class=\"sk-text-repr-fallback\"><pre>LogisticRegression()</pre><b>In a Jupyter environment, please rerun this cell to show the HTML representation or trust the notebook. <br />On GitHub, the HTML representation is unable to render, please try loading this page with nbviewer.org.</b></div><div class=\"sk-container\" hidden><div class=\"sk-item\"><div class=\"sk-estimator sk-toggleable\"><input class=\"sk-toggleable__control sk-hidden--visually\" id=\"sk-estimator-id-2\" type=\"checkbox\" checked><label for=\"sk-estimator-id-2\" class=\"sk-toggleable__label sk-toggleable__label-arrow\">LogisticRegression</label><div class=\"sk-toggleable__content\"><pre>LogisticRegression()</pre></div></div></div></div></div>"
      ],
      "text/plain": [
       "LogisticRegression()"
      ]
     },
     "execution_count": 21,
     "metadata": {},
     "output_type": "execute_result"
    }
   ],
   "source": [
    "from sklearn.linear_model import LogisticRegression # classe utilizada para criar e treinar um modelo de regressão logística\n",
    "from sklearn import metrics # a classe contém várias funções para avaliar a performance do modelo.\n",
    "\n",
    "X_train, X_test, y_train, y_test = train_test_split(X, y, test_size=0.3, random_state=0) # dividindo os dados em conjunto de treinamento e conjunto de teste com a função train_test_split() \n",
    "# Os argumentos X e y representam as variáveis preditoras e a variável resposta, respectivamente. O argumento test_size=0.3 \n",
    "# define que 30% dos dados serão utilizados para formar o conjunto de teste, enquanto o restante (70%) \n",
    "# será utilizado para treinar o modelo. O argumento random_state=0 é usado para garantir que a divisão \n",
    "# seja feita de forma determinística, ou seja, sempre obteremos a mesma divisão de treinamento/teste quando executarmos o código novamente.\n",
    "\n",
    "logreg = LogisticRegression() # o objeto logreg da classe LogisticRegression representa o modelo de regressão logística que será treinado. \n",
    "\n",
    "# A função fit() é usada para treinar o modelo com os dados de treinamento (X_train e y_train). Durante o treinamento, o modelo aprenderá os coeficientes (pesos) que melhor se ajustam aos dados de treinamento, de forma a realizar a previsão da variável resposta com base nas variáveis preditoras.\n",
    "logreg.fit(X_train, y_train) #Após a execução do código, o objeto logreg conterá o modelo de regressão logística treinado, pronto para fazer previsões em novos dados não vistos."
   ]
  },
  {
   "cell_type": "code",
   "execution_count": 20,
   "id": "db897287",
   "metadata": {},
   "outputs": [
    {
     "name": "stdout",
     "output_type": "stream",
     "text": [
      "Accuracy of logistic regression classifier on test set: 0.84\n"
     ]
    }
   ],
   "source": [
    "y_pred = logreg.predict(X_test) # A função predict() é aplicada ao modelo logreg com X_test como argumento, e ela retorna uma matriz contendo as previsões do modelo para o conjunto de teste. Essas previsões são armazenadas na variável y_pred.\n",
    "print('Avurácia do classificador de regressão logística no conjunto de teste.: {:.2f}'.format(logreg.score(X_test, y_test))) # calculando a acurácia do modelo de regressão logística no conjunto de teste. A acurácia é usada para avaliar a performance de modelos de classificação. Ela mede a proporção de previsões corretas em relação ao total de previsões feitas pelo modelo.\n",
    "#O método score() é aplicado ao modelo logreg com X_test e y_test como argumentos. Ele compara as previsões do modelo (armazenadas em y_pred) com as verdadeiras classes do conjunto de teste (y_test) e calcula a acurácia como a proporção de previsões corretas em relação ao total de amostras no conjunto de teste."
   ]
  },
  {
   "cell_type": "markdown",
   "id": "ad5add91",
   "metadata": {},
   "source": [
    "## Confusion Matrix"
   ]
  },
  {
   "cell_type": "code",
   "execution_count": 23,
   "id": "501a3981",
   "metadata": {},
   "outputs": [
    {
     "name": "stdout",
     "output_type": "stream",
     "text": [
      "[[888 176]\n",
      " [160 941]]\n"
     ]
    }
   ],
   "source": [
    "from sklearn.metrics import confusion_matrix\n",
    "confusion_matrix = confusion_matrix(y_test, y_pred) # A função confusion_matrix é usada para calcular a matriz de confusão, que é uma tabela que descreve o desempenho de um modelo de classificação em termos de verdadeiros positivos (TP), falsos positivos (FP), verdadeiros negativos (TN) e falsos negativos (FN).\n",
    "print(confusion_matrix)"
   ]
  },
  {
   "cell_type": "markdown",
   "id": "d23fa477",
   "metadata": {},
   "source": [
    "O resultado nos mostra que temos 888+941 predições corretas e 160+176 predições incorretas.\n",
    "\n",
    "* São 888 verdadeiros negativos\n",
    "* 160 falsos negativos\n",
    "* 176 falsos positivos\n",
    "* 941 verdadeiros positivos"
   ]
  },
  {
   "cell_type": "markdown",
   "id": "18b2bef1",
   "metadata": {},
   "source": [
    "## Compute precision, recall, F-measure and support"
   ]
  },
  {
   "cell_type": "code",
   "execution_count": null,
   "id": "7c2ae097",
   "metadata": {},
   "outputs": [],
   "source": [
    "from sklearn.metrics import classification_report\n",
    "print(classification_report(y_test, y_pred))"
   ]
  },
  {
   "cell_type": "markdown",
   "id": "a1c12715",
   "metadata": {},
   "source": [
    "\n",
    "Tradução de cada métrica conforme a citação do Scikit Learn:\n",
    "\n",
    "* Precisão (Precision):\n",
    "A precisão é a razão tp / (tp + fp), onde tp é o número de verdadeiros positivos e fp é o número de falsos positivos. A precisão é intuitivamente a habilidade do classificador de não rotular uma amostra como positiva se ela for negativa.\n",
    "\n",
    "* Recall (Revocação):\n",
    "A revocação é a razão tp / (tp + fn), onde tp é o número de verdadeiros positivos e fn é o número de falsos negativos. A revocação é intuitivamente a habilidade do classificador de encontrar todas as amostras positivas.\n",
    "\n",
    "* F-measure (F-medida):\n",
    "A F-medida é interpretada como uma média harmônica ponderada da precisão e da revocação, onde a F-medida atinge seu melhor valor em 1 e pior valor em 0.\n",
    "\n",
    "* Suporte (Support):\n",
    "O suporte é o número de ocorrências de cada classe em y_test.\n",
    "\n",
    "Em resumo, essas métricas são utilizadas para avaliar o desempenho de um classificador em tarefas de classificação. A precisão mede a proporção de verdadeiros positivos entre todas as amostras classificadas como positivas, enquanto a revocação mede a proporção de verdadeiros positivos encontrados entre todas as amostras verdadeiramente positivas. A F-medida combina a precisão e a revocação em uma única métrica, sendo útil quando se deseja equilibrar o trade-off entre ambas. O suporte informa quantas amostras existem para cada classe na coleção de teste (y_test)."
   ]
  },
  {
   "cell_type": "markdown",
   "id": "fb3648ef",
   "metadata": {},
   "source": [
    "Do dataset completo, 82% dos clientes testados realmente resultaram em Churn para a empresa."
   ]
  },
  {
   "cell_type": "markdown",
   "id": "af993dad",
   "metadata": {},
   "source": [
    "## ROC Curve"
   ]
  },
  {
   "cell_type": "code",
   "execution_count": null,
   "id": "33f93c83",
   "metadata": {},
   "outputs": [],
   "source": [
    "from sklearn.metrics import roc_auc_score\n",
    "from sklearn.metrics import roc_curve\n",
    "logit_roc_auc = roc_auc_score(y_test, logreg.predict(X_test))\n",
    "fpr, tpr, thresholds = roc_curve(y_test, logreg.predict_proba(X_test)[:,1])\n",
    "plt.figure()\n",
    "plt.plot(fpr, tpr, label='Regressão Logística (area = %0.2f)' % logit_roc_auc)\n",
    "plt.plot([0, 1], [0, 1],'r--')\n",
    "plt.xlim([0.0, 1.0])\n",
    "plt.ylim([0.0, 1.05])\n",
    "plt.xlabel('Taxa de falsos positivos')\n",
    "plt.ylabel('Taxa de verdadeiros positivos')\n",
    "plt.title('Característica de Operação do Receptor')\n",
    "plt.legend(loc=\"lower right\")\n",
    "plt.savefig('Log_ROC')\n",
    "plt.show()"
   ]
  },
  {
   "cell_type": "code",
   "execution_count": null,
   "id": "1be2b827",
   "metadata": {},
   "outputs": [],
   "source": []
  }
 ],
 "metadata": {
  "kernelspec": {
   "display_name": "Python 3 (ipykernel)",
   "language": "python",
   "name": "python3"
  },
  "language_info": {
   "codemirror_mode": {
    "name": "ipython",
    "version": 3
   },
   "file_extension": ".py",
   "mimetype": "text/x-python",
   "name": "python",
   "nbconvert_exporter": "python",
   "pygments_lexer": "ipython3",
   "version": "3.11.4"
  }
 },
 "nbformat": 4,
 "nbformat_minor": 5
}
